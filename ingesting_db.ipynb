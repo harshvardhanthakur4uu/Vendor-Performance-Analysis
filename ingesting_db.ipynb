{
 "cells": [
  {
   "cell_type": "code",
   "execution_count": 10,
   "id": "1218e961-b879-4c36-a587-ec9d1a09a74c",
   "metadata": {},
   "outputs": [],
   "source": [
    "import pandas as pd\n",
    "import os\n",
    "from sqlalchemy import create_engine\n",
    "import logging\n",
    "import time\n",
    "\n",
    "logging.basicConfig(\n",
    "    filename=\"logs/ingestion_db.log\",\n",
    "    level=logging.DEBUG,\n",
    "    format=\"%(asctime)s - %(levelname)s - %(message)s\",\n",
    "    filemode=\"a\"\n",
    ")\n",
    "\n",
    "engine = create_engine('sqlite:///inventory.db')\n",
    "\n",
    "def ingest_db(df, table_name, engine):\n",
    "    '''This function will ingest the dataframe into database table'''\n",
    "    df.to_sql(table_name, con = engine, if_exists='replace', index=False)\n",
    "\n",
    "def load_raw_data():\n",
    "    '''this fuction will load the CSVs as dataframe and ingest into db'''\n",
    "    start = time.time()\n",
    "    for file in os.listdir('Data'):\n",
    "        df = pd.read_csv('Data/'+file)\n",
    "        logging.info(f\"Ingesting {file} in db\")\n",
    "        ingest_db(df, file[:-4], engine)\n",
    "    end = time.time()\n",
    "    total_time = (end - start)/60\n",
    "    logging.info(\"----------Ingestion Complete---------\")\n",
    "    logging.info(f\"Total Time Taken: {total_time} minutues\")\n",
    "\n",
    "if __name__ == '__main__':\n",
    "    load_raw_data()"
   ]
  },
  {
   "cell_type": "code",
   "execution_count": null,
   "id": "cd6d7edb-f5b2-48b2-be11-9c2b3a80a46b",
   "metadata": {},
   "outputs": [],
   "source": []
  }
 ],
 "metadata": {
  "kernelspec": {
   "display_name": "Python 3 (ipykernel)",
   "language": "python",
   "name": "python3"
  },
  "language_info": {
   "codemirror_mode": {
    "name": "ipython",
    "version": 3
   },
   "file_extension": ".py",
   "mimetype": "text/x-python",
   "name": "python",
   "nbconvert_exporter": "python",
   "pygments_lexer": "ipython3",
   "version": "3.12.7"
  }
 },
 "nbformat": 4,
 "nbformat_minor": 5
}
